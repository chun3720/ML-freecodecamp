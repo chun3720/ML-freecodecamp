{
 "cells": [
  {
   "cell_type": "code",
   "execution_count": 1,
   "id": "db580415-fd31-4ad3-993f-0cfffd85cfd7",
   "metadata": {},
   "outputs": [],
   "source": [
    "import platform"
   ]
  },
  {
   "cell_type": "code",
   "execution_count": 2,
   "id": "22a26d1d-123e-477f-b5bd-57bbe0e3e6a7",
   "metadata": {},
   "outputs": [
    {
     "data": {
      "text/plain": [
       "'macOS-13.0.1-arm64-arm-64bit'"
      ]
     },
     "execution_count": 2,
     "metadata": {},
     "output_type": "execute_result"
    }
   ],
   "source": [
    "platform.platform()"
   ]
  },
  {
   "cell_type": "code",
   "execution_count": null,
   "id": "cf3db9d4-8f16-4cba-bb53-68e630a6b078",
   "metadata": {},
   "outputs": [],
   "source": []
  }
 ],
 "metadata": {
  "kernelspec": {
   "display_name": "py310",
   "language": "python",
   "name": "py310"
  },
  "language_info": {
   "codemirror_mode": {
    "name": "ipython",
    "version": 3
   },
   "file_extension": ".py",
   "mimetype": "text/x-python",
   "name": "python",
   "nbconvert_exporter": "python",
   "pygments_lexer": "ipython3",
   "version": "3.9.12"
  }
 },
 "nbformat": 4,
 "nbformat_minor": 5
}
